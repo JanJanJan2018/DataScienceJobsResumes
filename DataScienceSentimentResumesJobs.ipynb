{
 "cells": [
  {
   "cell_type": "code",
   "execution_count": 1,
   "metadata": {},
   "outputs": [],
   "source": [
    "%matplotlib inline \n",
    "import pandas as pd \n",
    "import matplotlib.pyplot as plt \n",
    "from textblob import TextBlob \n",
    "import sklearn \n",
    "import numpy as np \n",
    "from sklearn.feature_extraction.text import CountVectorizer \n",
    "from sklearn.naive_bayes import MultinomialNB \n",
    "from sklearn.metrics import classification_report, f1_score, accuracy_score, confusion_matrix \n",
    " \n",
    "np.random.seed(47) \n",
    " \n"
   ]
  },
  {
   "cell_type": "code",
   "execution_count": 2,
   "metadata": {},
   "outputs": [],
   "source": [
    "reviews = pd.read_csv('DataScienceJobsResumes.csv', encoding = 'unicode_escape') "
   ]
  },
  {
   "cell_type": "code",
   "execution_count": 3,
   "metadata": {},
   "outputs": [
    {
     "name": "stdout",
     "output_type": "stream",
     "text": [
      "                              jobOrResumeDescription            role  \\\n",
      "0  : Artificial Intelligence / Machine Learning D...       Developer   \n",
      "1   : Data Scientist/Architect\\n: 6+ months + Hig...  Data Scientist   \n",
      "2   : Data Analyst\\n: Davidson, NC\\n: 04+ Months\\...    Data Analyst   \n",
      "3   : Big Data Architect or Data Scientist\\n: New...  Data Scientist   \n",
      "4  : Data Engineer\\n: Woonsocket, RI\\n: 6+ Months...   Data Engineer   \n",
      "\n",
      "      sourceType  \n",
      "0  job recruiter  \n",
      "1  job recruiter  \n",
      "2  job recruiter  \n",
      "3  job recruiter  \n",
      "4  job recruiter  \n",
      "                                jobOrResumeDescription            role  \\\n",
      "196  \\n\\n and Experience:\\n* Ten years of experienc...  Data Scientist   \n",
      "197   \\n \\n~  and  ~\\n \\t \\n- Python \\t- \\tMolecula...  Data Scientist   \n",
      "198  M.S. Statistics graduate looking for a full-ti...  Data Scientist   \n",
      "199  \\nIm a data scientist with a background in ne...  Data Scientist   \n",
      "200  \\n:\\n* Machine learning in R, and other softwa...  Data Scientist   \n",
      "\n",
      "    sourceType  \n",
      "196     resume  \n",
      "197     resume  \n",
      "198     resume  \n",
      "199     resume  \n",
      "200     resume  \n"
     ]
    }
   ],
   "source": [
    "print(reviews.head())\n",
    "print(reviews.tail())"
   ]
  },
  {
   "cell_type": "code",
   "execution_count": 4,
   "metadata": {},
   "outputs": [
    {
     "name": "stdout",
     "output_type": "stream",
     "text": [
      "(201, 3)\n"
     ]
    }
   ],
   "source": [
    "print(reviews.shape)"
   ]
  },
  {
   "cell_type": "code",
   "execution_count": 5,
   "metadata": {},
   "outputs": [],
   "source": [
    "import regex\n",
    "def preprocessor(text):\n",
    "    text = regex.sub('<[^>]*>', '', text)\n",
    "    emoticons = regex.findall('(?::|;|=)(?:-)?(?:\\)|\\(|D|P)', text)\n",
    "    text = regex.sub('[\\W]+', ' ', text.lower()) +\\\n",
    "        ' '.join(emoticons).replace('-', '')\n",
    "    return text"
   ]
  },
  {
   "cell_type": "code",
   "execution_count": 6,
   "metadata": {},
   "outputs": [
    {
     "data": {
      "text/html": [
       "<div>\n",
       "<style scoped>\n",
       "    .dataframe tbody tr th:only-of-type {\n",
       "        vertical-align: middle;\n",
       "    }\n",
       "\n",
       "    .dataframe tbody tr th {\n",
       "        vertical-align: top;\n",
       "    }\n",
       "\n",
       "    .dataframe thead th {\n",
       "        text-align: right;\n",
       "    }\n",
       "</style>\n",
       "<table border=\"1\" class=\"dataframe\">\n",
       "  <thead>\n",
       "    <tr style=\"text-align: right;\">\n",
       "      <th></th>\n",
       "      <th>jobOrResumeDescription</th>\n",
       "      <th>role</th>\n",
       "      <th>sourceType</th>\n",
       "    </tr>\n",
       "  </thead>\n",
       "  <tbody>\n",
       "    <tr>\n",
       "      <td>196</td>\n",
       "      <td>\\n\\n and Experience:\\n* Ten years of experienc...</td>\n",
       "      <td>Data Scientist</td>\n",
       "      <td>resume</td>\n",
       "    </tr>\n",
       "    <tr>\n",
       "      <td>197</td>\n",
       "      <td>\\n \\n~  and  ~\\n \\t \\n- Python \\t- \\tMolecula...</td>\n",
       "      <td>Data Scientist</td>\n",
       "      <td>resume</td>\n",
       "    </tr>\n",
       "    <tr>\n",
       "      <td>198</td>\n",
       "      <td>M.S. Statistics graduate looking for a full-ti...</td>\n",
       "      <td>Data Scientist</td>\n",
       "      <td>resume</td>\n",
       "    </tr>\n",
       "    <tr>\n",
       "      <td>199</td>\n",
       "      <td>\\nIm a data scientist with a background in ne...</td>\n",
       "      <td>Data Scientist</td>\n",
       "      <td>resume</td>\n",
       "    </tr>\n",
       "    <tr>\n",
       "      <td>200</td>\n",
       "      <td>\\n:\\n* Machine learning in R, and other softwa...</td>\n",
       "      <td>Data Scientist</td>\n",
       "      <td>resume</td>\n",
       "    </tr>\n",
       "  </tbody>\n",
       "</table>\n",
       "</div>"
      ],
      "text/plain": [
       "                                jobOrResumeDescription            role  \\\n",
       "196  \\n\\n and Experience:\\n* Ten years of experienc...  Data Scientist   \n",
       "197   \\n \\n~  and  ~\\n \\t \\n- Python \\t- \\tMolecula...  Data Scientist   \n",
       "198  M.S. Statistics graduate looking for a full-ti...  Data Scientist   \n",
       "199  \\nIm a data scientist with a background in ne...  Data Scientist   \n",
       "200  \\n:\\n* Machine learning in R, and other softwa...  Data Scientist   \n",
       "\n",
       "    sourceType  \n",
       "196     resume  \n",
       "197     resume  \n",
       "198     resume  \n",
       "199     resume  \n",
       "200     resume  "
      ]
     },
     "execution_count": 6,
     "metadata": {},
     "output_type": "execute_result"
    }
   ],
   "source": [
    "\n",
    "\n",
    "reviews.tail()\n",
    "\n"
   ]
  },
  {
   "cell_type": "code",
   "execution_count": 7,
   "metadata": {},
   "outputs": [
    {
     "name": "stdout",
     "output_type": "stream",
     "text": [
      "                                jobOrResumeDescription            role  \\\n",
      "5    PhD or MS with 3 years post MS experience Comp...  Data Scientist   \n",
      "156  * A data scientist  with 7 years of progressiv...  Data Scientist   \n",
      "0    : Artificial Intelligence / Machine Learning D...       Developer   \n",
      "99   Senior Data Scientist\\nKareo Inc2 re - Irvine,...  Data Scientist   \n",
      "187  My life  experience has been in assistant mana...  Data Scientist   \n",
      "\n",
      "        sourceType  \n",
      "5    job recruiter  \n",
      "156         resume  \n",
      "0    job recruiter  \n",
      "99        Job post  \n",
      "187         resume  \n",
      "                                jobOrResumeDescription            role  \\\n",
      "72   Senior Healthcare Data Analyst\\nAdvantmed98 re...    Data Analyst   \n",
      "8    Research Computing SME - 19-03563\\n \\n\\n    : ...  Data Scientist   \n",
      "71   Sr Financial Analyst\\nApria Healthcare1,853 re...    Data Analyst   \n",
      "134  ? Highly productive and effective Financial An...  Data Scientist   \n",
      "135  Business Data Analyst who maximizes productivi...  Data Scientist   \n",
      "\n",
      "        sourceType  \n",
      "72        Job post  \n",
      "8    job recruiter  \n",
      "71        Job post  \n",
      "134         resume  \n",
      "135         resume  \n"
     ]
    }
   ],
   "source": [
    "import numpy as np\n",
    "\n",
    "reviews = reviews.reindex(np.random.permutation(reviews.index))\n",
    "\n",
    "print(reviews.head())\n",
    "print(reviews.tail())"
   ]
  },
  {
   "cell_type": "code",
   "execution_count": 8,
   "metadata": {},
   "outputs": [
    {
     "data": {
      "text/html": [
       "<div>\n",
       "<style scoped>\n",
       "    .dataframe tbody tr th:only-of-type {\n",
       "        vertical-align: middle;\n",
       "    }\n",
       "\n",
       "    .dataframe tbody tr th {\n",
       "        vertical-align: top;\n",
       "    }\n",
       "\n",
       "    .dataframe thead tr th {\n",
       "        text-align: left;\n",
       "    }\n",
       "\n",
       "    .dataframe thead tr:last-of-type th {\n",
       "        text-align: right;\n",
       "    }\n",
       "</style>\n",
       "<table border=\"1\" class=\"dataframe\">\n",
       "  <thead>\n",
       "    <tr>\n",
       "      <th></th>\n",
       "      <th colspan=\"4\" halign=\"left\">jobOrResumeDescription</th>\n",
       "      <th colspan=\"4\" halign=\"left\">role</th>\n",
       "    </tr>\n",
       "    <tr>\n",
       "      <th></th>\n",
       "      <th>count</th>\n",
       "      <th>unique</th>\n",
       "      <th>top</th>\n",
       "      <th>freq</th>\n",
       "      <th>count</th>\n",
       "      <th>unique</th>\n",
       "      <th>top</th>\n",
       "      <th>freq</th>\n",
       "    </tr>\n",
       "    <tr>\n",
       "      <th>sourceType</th>\n",
       "      <th></th>\n",
       "      <th></th>\n",
       "      <th></th>\n",
       "      <th></th>\n",
       "      <th></th>\n",
       "      <th></th>\n",
       "      <th></th>\n",
       "      <th></th>\n",
       "    </tr>\n",
       "  </thead>\n",
       "  <tbody>\n",
       "    <tr>\n",
       "      <td>Job post</td>\n",
       "      <td>59</td>\n",
       "      <td>58</td>\n",
       "      <td>Senior Data Analyst\\nKelly Services14,506 re -...</td>\n",
       "      <td>2</td>\n",
       "      <td>59</td>\n",
       "      <td>3</td>\n",
       "      <td>Data Analyst</td>\n",
       "      <td>41</td>\n",
       "    </tr>\n",
       "    <tr>\n",
       "      <td>job recruiter</td>\n",
       "      <td>42</td>\n",
       "      <td>42</td>\n",
       "      <td>: Data Scientist\\n\\n : Philadelphia , PA\\n\\nE...</td>\n",
       "      <td>1</td>\n",
       "      <td>42</td>\n",
       "      <td>5</td>\n",
       "      <td>Data Scientist</td>\n",
       "      <td>17</td>\n",
       "    </tr>\n",
       "    <tr>\n",
       "      <td>resume</td>\n",
       "      <td>100</td>\n",
       "      <td>100</td>\n",
       "      <td>To continue learning and innovating the world ...</td>\n",
       "      <td>1</td>\n",
       "      <td>100</td>\n",
       "      <td>1</td>\n",
       "      <td>Data Scientist</td>\n",
       "      <td>100</td>\n",
       "    </tr>\n",
       "  </tbody>\n",
       "</table>\n",
       "</div>"
      ],
      "text/plain": [
       "              jobOrResumeDescription         \\\n",
       "                               count unique   \n",
       "sourceType                                    \n",
       "Job post                          59     58   \n",
       "job recruiter                     42     42   \n",
       "resume                           100    100   \n",
       "\n",
       "                                                                       role  \\\n",
       "                                                             top freq count   \n",
       "sourceType                                                                    \n",
       "Job post       Senior Data Analyst\\nKelly Services14,506 re -...    2    59   \n",
       "job recruiter   : Data Scientist\\n\\n : Philadelphia , PA\\n\\nE...    1    42   \n",
       "resume         To continue learning and innovating the world ...    1   100   \n",
       "\n",
       "                                           \n",
       "              unique             top freq  \n",
       "sourceType                                 \n",
       "Job post           3    Data Analyst   41  \n",
       "job recruiter      5  Data Scientist   17  \n",
       "resume             1  Data Scientist  100  "
      ]
     },
     "execution_count": 8,
     "metadata": {},
     "output_type": "execute_result"
    }
   ],
   "source": [
    "reviews.groupby('sourceType').describe()"
   ]
  },
  {
   "cell_type": "code",
   "execution_count": 9,
   "metadata": {},
   "outputs": [
    {
     "data": {
      "text/html": [
       "<div>\n",
       "<style scoped>\n",
       "    .dataframe tbody tr th:only-of-type {\n",
       "        vertical-align: middle;\n",
       "    }\n",
       "\n",
       "    .dataframe tbody tr th {\n",
       "        vertical-align: top;\n",
       "    }\n",
       "\n",
       "    .dataframe thead tr th {\n",
       "        text-align: left;\n",
       "    }\n",
       "\n",
       "    .dataframe thead tr:last-of-type th {\n",
       "        text-align: right;\n",
       "    }\n",
       "</style>\n",
       "<table border=\"1\" class=\"dataframe\">\n",
       "  <thead>\n",
       "    <tr>\n",
       "      <th></th>\n",
       "      <th colspan=\"4\" halign=\"left\">jobOrResumeDescription</th>\n",
       "      <th colspan=\"4\" halign=\"left\">sourceType</th>\n",
       "    </tr>\n",
       "    <tr>\n",
       "      <th></th>\n",
       "      <th>count</th>\n",
       "      <th>unique</th>\n",
       "      <th>top</th>\n",
       "      <th>freq</th>\n",
       "      <th>count</th>\n",
       "      <th>unique</th>\n",
       "      <th>top</th>\n",
       "      <th>freq</th>\n",
       "    </tr>\n",
       "    <tr>\n",
       "      <th>role</th>\n",
       "      <th></th>\n",
       "      <th></th>\n",
       "      <th></th>\n",
       "      <th></th>\n",
       "      <th></th>\n",
       "      <th></th>\n",
       "      <th></th>\n",
       "      <th></th>\n",
       "    </tr>\n",
       "  </thead>\n",
       "  <tbody>\n",
       "    <tr>\n",
       "      <td>Data Analyst</td>\n",
       "      <td>49</td>\n",
       "      <td>48</td>\n",
       "      <td>Senior Data Analyst\\nKelly Services14,506 re -...</td>\n",
       "      <td>2</td>\n",
       "      <td>49</td>\n",
       "      <td>2</td>\n",
       "      <td>Job post</td>\n",
       "      <td>41</td>\n",
       "    </tr>\n",
       "    <tr>\n",
       "      <td>Data Engineer</td>\n",
       "      <td>13</td>\n",
       "      <td>13</td>\n",
       "      <td>\\n: Data  Engineer \\n\\n: Plano TX\\n\\nTerms: Lo...</td>\n",
       "      <td>1</td>\n",
       "      <td>13</td>\n",
       "      <td>2</td>\n",
       "      <td>job recruiter</td>\n",
       "      <td>8</td>\n",
       "    </tr>\n",
       "    <tr>\n",
       "      <td>Data Scientist</td>\n",
       "      <td>130</td>\n",
       "      <td>130</td>\n",
       "      <td>To continue learning and innovating the world ...</td>\n",
       "      <td>1</td>\n",
       "      <td>130</td>\n",
       "      <td>3</td>\n",
       "      <td>resume</td>\n",
       "      <td>100</td>\n",
       "    </tr>\n",
       "    <tr>\n",
       "      <td>Developer</td>\n",
       "      <td>8</td>\n",
       "      <td>8</td>\n",
       "      <td>Hive Big Data Developer\\n\\nPhoenix, AZ\\n\\n12+ ...</td>\n",
       "      <td>1</td>\n",
       "      <td>8</td>\n",
       "      <td>1</td>\n",
       "      <td>job recruiter</td>\n",
       "      <td>8</td>\n",
       "    </tr>\n",
       "    <tr>\n",
       "      <td>Software Engineer</td>\n",
       "      <td>1</td>\n",
       "      <td>1</td>\n",
       "      <td>Ref.                         : 19-62193\\n    ...</td>\n",
       "      <td>1</td>\n",
       "      <td>1</td>\n",
       "      <td>1</td>\n",
       "      <td>job recruiter</td>\n",
       "      <td>1</td>\n",
       "    </tr>\n",
       "  </tbody>\n",
       "</table>\n",
       "</div>"
      ],
      "text/plain": [
       "                  jobOrResumeDescription         \\\n",
       "                                   count unique   \n",
       "role                                              \n",
       "Data Analyst                          49     48   \n",
       "Data Engineer                         13     13   \n",
       "Data Scientist                       130    130   \n",
       "Developer                              8      8   \n",
       "Software Engineer                      1      1   \n",
       "\n",
       "                                                                           \\\n",
       "                                                                 top freq   \n",
       "role                                                                        \n",
       "Data Analyst       Senior Data Analyst\\nKelly Services14,506 re -...    2   \n",
       "Data Engineer      \\n: Data  Engineer \\n\\n: Plano TX\\n\\nTerms: Lo...    1   \n",
       "Data Scientist     To continue learning and innovating the world ...    1   \n",
       "Developer          Hive Big Data Developer\\n\\nPhoenix, AZ\\n\\n12+ ...    1   \n",
       "Software Engineer   Ref.                         : 19-62193\\n    ...    1   \n",
       "\n",
       "                  sourceType                             \n",
       "                       count unique            top freq  \n",
       "role                                                     \n",
       "Data Analyst              49      2       Job post   41  \n",
       "Data Engineer             13      2  job recruiter    8  \n",
       "Data Scientist           130      3         resume  100  \n",
       "Developer                  8      1  job recruiter    8  \n",
       "Software Engineer          1      1  job recruiter    1  "
      ]
     },
     "execution_count": 9,
     "metadata": {},
     "output_type": "execute_result"
    }
   ],
   "source": [
    "\n",
    "\n",
    "reviews.groupby('role').describe()\n",
    "\n"
   ]
  },
  {
   "cell_type": "code",
   "execution_count": 10,
   "metadata": {},
   "outputs": [
    {
     "name": "stdout",
     "output_type": "stream",
     "text": [
      "                                jobOrResumeDescription            role  \\\n",
      "5    PhD or MS with 3 years post MS experience Comp...  Data Scientist   \n",
      "156  * A data scientist  with 7 years of progressiv...  Data Scientist   \n",
      "0    : Artificial Intelligence / Machine Learning D...       Developer   \n",
      "99   Senior Data Scientist\\nKareo Inc2 re - Irvine,...  Data Scientist   \n",
      "187  My life  experience has been in assistant mana...  Data Scientist   \n",
      "\n",
      "        sourceType  length  \n",
      "5    job recruiter     801  \n",
      "156         resume   22827  \n",
      "0    job recruiter     909  \n",
      "99        Job post    4129  \n",
      "187         resume    4127  \n"
     ]
    }
   ],
   "source": [
    "reviews['length'] = reviews['jobOrResumeDescription'].map(lambda text: len(text))\n",
    "print(reviews.head())"
   ]
  },
  {
   "cell_type": "code",
   "execution_count": 11,
   "metadata": {},
   "outputs": [
    {
     "data": {
      "text/plain": [
       "<matplotlib.axes._subplots.AxesSubplot at 0x2e71a9aeef0>"
      ]
     },
     "execution_count": 11,
     "metadata": {},
     "output_type": "execute_result"
    },
    {
     "data": {
      "image/png": "[encoded data removed]",
      "text/plain": [
       "<Figure size 432x288 with 1 Axes>"
      ]
     },
     "metadata": {
      "needs_background": "light"
     },
     "output_type": "display_data"
    }
   ],
   "source": [
    "\n",
    "\n",
    "reviews.length.plot(bins=20, kind='hist')"
   ]
  },
  {
   "cell_type": "code",
   "execution_count": 12,
   "metadata": {},
   "outputs": [
    {
     "data": {
      "text/plain": [
       "count      201.000000\n",
       "mean      5694.482587\n",
       "std       5759.567865\n",
       "min        303.000000\n",
       "25%       2202.000000\n",
       "50%       3873.000000\n",
       "75%       6120.000000\n",
       "max      26846.000000\n",
       "Name: length, dtype: float64"
      ]
     },
     "execution_count": 12,
     "metadata": {},
     "output_type": "execute_result"
    }
   ],
   "source": [
    "reviews.length.describe()"
   ]
  },
  {
   "cell_type": "code",
   "execution_count": 13,
   "metadata": {},
   "outputs": [
    {
     "name": "stdout",
     "output_type": "stream",
     "text": [
      "[5, 156, 0, 99, 187, 74, 128, 36, 160, 141, 132, 20, 63, 108, 16, 133, 25, 158, 96, 9, 1, 148, 62, 172, 15, 32, 112, 164, 45, 10, 154, 162, 168, 3, 13, 31, 183, 92, 82, 121, 192, 182, 26, 178, 193, 130, 190, 131, 83, 78, 40, 115, 69, 102, 37, 139, 149, 165, 47, 85, 189, 35, 106, 42, 81, 46, 18, 107, 6, 155, 39, 64, 76, 77, 61, 188, 151, 70, 24, 111, 38, 91, 195, 67, 94, 54, 44, 11, 127, 119, 33, 170, 150, 200, 143, 145, 136, 117, 57, 29, 19, 116, 22, 126, 104, 58, 177, 171, 122, 197, 60, 88, 129, 191, 174, 110, 98, 105, 43, 49, 14, 194, 118, 103, 97, 167, 93, 30, 95, 181, 41, 152, 142, 17, 109, 120, 157, 138, 28, 100, 56, 12, 140, 185, 186, 146, 199, 124, 89, 176, 153, 175, 166, 144, 2, 75, 52, 84, 51, 90, 159, 86, 68, 125, 147, 21, 27, 161, 79, 137, 101, 163, 4, 66, 34, 73, 48, 53, 184, 169, 196, 180, 123, 87, 65, 114, 50, 55, 113, 173, 198, 7, 59, 23, 80, 179, 72, 8, 71, 134, 135]\n",
      "['Data Scientist', 'Data Scientist', 'Developer', 'Data Scientist', 'Data Scientist', 'Data Analyst', 'Data Scientist', 'Data Scientist', 'Data Scientist', 'Data Scientist', 'Data Scientist', 'Data Scientist', 'Data Analyst', 'Data Scientist', 'Data Engineer', 'Data Scientist', 'Data Engineer', 'Data Scientist', 'Data Scientist', 'Software Engineer', 'Data Scientist', 'Data Scientist', 'Data Analyst', 'Data Scientist', 'Data Analyst', 'Data Analyst', 'Data Scientist', 'Data Scientist', 'Data Analyst', 'Developer', 'Data Scientist', 'Data Scientist', 'Data Scientist', 'Data Scientist', 'Data Engineer', 'Developer', 'Data Scientist', 'Data Engineer', 'Data Analyst', 'Data Scientist', 'Data Scientist', 'Data Scientist', 'Developer', 'Data Scientist', 'Data Scientist', 'Data Scientist', 'Data Scientist', 'Data Scientist', 'Data Analyst', 'Data Analyst', 'Data Engineer', 'Data Scientist', 'Data Analyst', 'Data Scientist', 'Data Engineer', 'Data Scientist', 'Data Scientist', 'Data Scientist', 'Data Analyst', 'Data Scientist', 'Data Scientist', 'Data Scientist', 'Data Scientist', 'Developer', 'Data Analyst', 'Data Analyst', 'Developer', 'Data Scientist', 'Data Scientist', 'Data Scientist', 'Data Scientist', 'Data Analyst', 'Data Analyst', 'Data Analyst', 'Data Analyst', 'Data Scientist', 'Data Scientist', 'Data Analyst', 'Data Scientist', 'Data Scientist', 'Data Analyst', 'Data Scientist', 'Data Scientist', 'Data Analyst', 'Data Engineer', 'Data Analyst', 'Data Analyst', 'Data Analyst', 'Data Scientist', 'Data Scientist', 'Data Scientist', 'Data Scientist', 'Data Scientist', 'Data Scientist', 'Data Scientist', 'Data Scientist', 'Data Scientist', 'Data Scientist', 'Data Analyst', 'Data Analyst', 'Data Scientist', 'Data Scientist', 'Developer', 'Data Scientist', 'Data Scientist', 'Data Analyst', 'Data Scientist', 'Data Scientist', 'Data Scientist', 'Data Scientist', 'Data Analyst', 'Data Scientist', 'Data Scientist', 'Data Scientist', 'Data Scientist', 'Data Scientist', 'Data Engineer', 'Data Scientist', 'Data Analyst', 'Data Scientist', 'Data Scientist', 'Data Scientist', 'Data Scientist', 'Data Scientist', 'Data Scientist', 'Data Scientist', 'Data Scientist', 'Data Scientist', 'Data Engineer', 'Data Scientist', 'Data Scientist', 'Data Scientist', 'Data Scientist', 'Data Analyst', 'Data Scientist', 'Data Scientist', 'Data Scientist', 'Data Scientist', 'Data Engineer', 'Data Scientist', 'Data Analyst', 'Data Engineer', 'Data Scientist', 'Data Scientist', 'Data Scientist', 'Data Scientist', 'Data Scientist', 'Data Scientist', 'Data Scientist', 'Data Scientist', 'Data Scientist', 'Data Scientist', 'Data Scientist', 'Data Scientist', 'Data Analyst', 'Data Analyst', 'Data Analyst', 'Data Analyst', 'Data Analyst', 'Data Engineer', 'Data Scientist', 'Data Scientist', 'Data Analyst', 'Data Scientist', 'Data Scientist', 'Developer', 'Data Scientist', 'Data Scientist', 'Data Analyst', 'Data Scientist', 'Data Scientist', 'Data Scientist', 'Data Engineer', 'Data Analyst', 'Data Scientist', 'Data Analyst', 'Data Analyst', 'Data Analyst', 'Data Scientist', 'Data Scientist', 'Data Scientist', 'Data Scientist', 'Data Scientist', 'Data Scientist', 'Data Analyst', 'Data Scientist', 'Data Analyst', 'Data Analyst', 'Data Scientist', 'Data Scientist', 'Data Scientist', 'Data Scientist', 'Data Analyst', 'Data Analyst', 'Data Analyst', 'Data Scientist', 'Data Analyst', 'Data Scientist', 'Data Analyst', 'Data Scientist', 'Data Scientist']\n"
     ]
    }
   ],
   "source": [
    "\n",
    "\n",
    "print(list(reviews.jobOrResumeDescription[reviews.length > 40].index))\n",
    "print(list(reviews.role[reviews.length > 40]))\n",
    "\n"
   ]
  },
  {
   "cell_type": "code",
   "execution_count": 14,
   "metadata": {},
   "outputs": [
    {
     "name": "stdout",
     "output_type": "stream",
     "text": [
      "Wall time: 375 ms\n"
     ]
    },
    {
     "data": {
      "text/plain": [
       "array([[<matplotlib.axes._subplots.AxesSubplot object at 0x000002E71AAC0668>,\n",
       "        <matplotlib.axes._subplots.AxesSubplot object at 0x000002E71AB1E198>],\n",
       "       [<matplotlib.axes._subplots.AxesSubplot object at 0x000002E71AB496D8>,\n",
       "        <matplotlib.axes._subplots.AxesSubplot object at 0x000002E71AB7BC88>],\n",
       "       [<matplotlib.axes._subplots.AxesSubplot object at 0x000002E71ABBA278>,\n",
       "        <matplotlib.axes._subplots.AxesSubplot object at 0x000002E71ABEA828>]],\n",
       "      dtype=object)"
      ]
     },
     "execution_count": 14,
     "metadata": {},
     "output_type": "execute_result"
    },
    {
     "data": {
      "image/png": "[encoded data removed]",
      "text/plain": [
       "<Figure size 432x288 with 6 Axes>"
      ]
     },
     "metadata": {
      "needs_background": "light"
     },
     "output_type": "display_data"
    }
   ],
   "source": [
    "\n",
    "\n",
    "%%time\n",
    "reviews.hist(column='length', by='role', bins=10)\n",
    "\n"
   ]
  },
  {
   "cell_type": "code",
   "execution_count": 15,
   "metadata": {},
   "outputs": [],
   "source": [
    "def split_into_tokens(review):\n",
    "    \n",
    "    #review = unicode(review, 'iso-8859-1')# in python 3 the default of str() previously python2 as unicode() is utf-8\n",
    "    return TextBlob(review).words"
   ]
  },
  {
   "cell_type": "code",
   "execution_count": 16,
   "metadata": {},
   "outputs": [
    {
     "data": {
      "text/plain": [
       "5      [PhD, or, MS, with, 3, years, post, MS, experi...\n",
       "156    [A, data, scientist, with, 7, years, of, progr...\n",
       "0      [Artificial, Intelligence, Machine, Learning, ...\n",
       "99     [Senior, Data, Scientist, Kareo, Inc2, re, Irv...\n",
       "187    [My, life, experience, has, been, in, assistan...\n",
       "Name: jobOrResumeDescription, dtype: object"
      ]
     },
     "execution_count": 16,
     "metadata": {},
     "output_type": "execute_result"
    }
   ],
   "source": [
    "reviews.jobOrResumeDescription.head().apply(split_into_tokens)"
   ]
  },
  {
   "cell_type": "code",
   "execution_count": 17,
   "metadata": {},
   "outputs": [
    {
     "data": {
      "text/plain": [
       "[('hello', 'JJ'),\n",
       " ('world', 'NN'),\n",
       " ('how', 'WRB'),\n",
       " ('is', 'VBZ'),\n",
       " ('it', 'PRP'),\n",
       " ('going', 'VBG')]"
      ]
     },
     "execution_count": 17,
     "metadata": {},
     "output_type": "execute_result"
    }
   ],
   "source": [
    "\n",
    "\n",
    "TextBlob(\"hello world, how is it going?\").tags  # list of (word, POS) pairs\n",
    "\n"
   ]
  },
  {
   "cell_type": "code",
   "execution_count": 18,
   "metadata": {},
   "outputs": [
    {
     "name": "stderr",
     "output_type": "stream",
     "text": [
      "[nltk_data] Downloading package stopwords to\n",
      "[nltk_data]     C:\\Users\\m\\AppData\\Roaming\\nltk_data...\n",
      "[nltk_data]   Package stopwords is already up-to-date!\n"
     ]
    },
    {
     "data": {
      "text/plain": [
       "True"
      ]
     },
     "execution_count": 18,
     "metadata": {},
     "output_type": "execute_result"
    }
   ],
   "source": [
    "\n",
    "\n",
    "import nltk\n",
    "nltk.download('stopwords')\n",
    "\n"
   ]
  },
  {
   "cell_type": "code",
   "execution_count": 19,
   "metadata": {},
   "outputs": [],
   "source": [
    "\n",
    "\n",
    "from nltk.corpus import stopwords\n",
    "\n",
    "stop = stopwords.words('english')\n",
    "stop = stop + [u'a',u'b',u'c',u'd',u'e',u'f',u'g',u'h',u'i',u'j',u'k',u'l',u'm',u'n',u'o',u'p',u'q',u'r',u's',u't',u'v',u'w',u'x',u'y',u'z']\n",
    "\n"
   ]
  },
  {
   "cell_type": "code",
   "execution_count": 20,
   "metadata": {},
   "outputs": [
    {
     "data": {
      "text/plain": [
       "5      [phd, m, 3, year, post, m, experience, compute...\n",
       "156    [data, scientist, 7, year, progressive, experi...\n",
       "0      [artificial, intelligence, machine, learning, ...\n",
       "99     [senior, data, scientist, kareo, inc2, irvine,...\n",
       "187    [life, experience, assistant, manager, managem...\n",
       "Name: jobOrResumeDescription, dtype: object"
      ]
     },
     "execution_count": 20,
     "metadata": {},
     "output_type": "execute_result"
    }
   ],
   "source": [
    "def split_into_lemmas(review):\n",
    "    #review = unicode(review, 'iso-8859-1')\n",
    "    review = review.lower()\n",
    "    #review = unicode(review, 'utf8').lower()\n",
    "    #review = str(review).lower()\n",
    "    words = TextBlob(review).words\n",
    "    # for each word, take its \"base form\" = lemma \n",
    "    return [word.lemma for word in words if word not in stop]\n",
    "\n",
    "reviews.jobOrResumeDescription.head().apply(split_into_lemmas)"
   ]
  },
  {
   "cell_type": "code",
   "execution_count": 21,
   "metadata": {},
   "outputs": [
    {
     "name": "stdout",
     "output_type": "stream",
     "text": [
      "10625\n",
      "Wall time: 6.52 s\n"
     ]
    }
   ],
   "source": [
    "%%time\n",
    "bow_transformer = CountVectorizer(analyzer=split_into_lemmas).fit(reviews['jobOrResumeDescription'])\n",
    "print(len(bow_transformer.vocabulary_))"
   ]
  },
  {
   "cell_type": "code",
   "execution_count": 22,
   "metadata": {},
   "outputs": [
    {
     "name": "stdout",
     "output_type": "stream",
     "text": [
      "At TGS, data is a core part of our business and our data focused software developers are among our most valued resources. This  is mission critical, so we?re  for an uncommonly reliable professional who enjoys coding, ing with and analyzing data, and providing support for production systems. In addition to programming and data analysis, this  is likely to involve interaction with external resources such as data providers, brokers, dealers, and software vendors.\n",
      "\n",
      "Successful candis will have experience in a number of the following general areas:\n",
      "\n",
      "    Programming: strong experience with Python, Java, SQL, and/or similar languages\n",
      "    Large data sets: experience developing programs to parse, process, clean, organize, and analyze large data sets\n",
      "    Applications: experience designing, developing, and maintaining software applications\n",
      "    Vendor interaction: ing with external resources to solve problems, acquire data, and improve relationships.\n",
      "    System : experience with scripting languages (Perl, Python, shell scripts, etc.), and Unix-based operating systems (especially Linux)\n",
      "\n",
      "Indeed Hire and TGS Management Company, LLC are ing together to find the best candi for this .\n",
      "\n",
      "By ing, you agree to be contacted by our agent, Indeed Hire, and receive ups via text and phone about your application.\n",
      "\n",
      " Type: Full-time\n",
      "\n",
      "Experience:\n",
      "\n",
      "    Python, Java, SQL, and/or similar languages: 1 year ()\n",
      "    designing, developing, and maintaining software applications: 1 year ()\n",
      "    Large data sets: 2 years ()\n",
      "\n",
      " distance:\n",
      "\n",
      "    Irvine, CA: Between 31 and 40 miles ()\n"
     ]
    }
   ],
   "source": [
    "review4 = reviews['jobOrResumeDescription'][42]\n",
    "print(review4)"
   ]
  },
  {
   "cell_type": "code",
   "execution_count": 23,
   "metadata": {},
   "outputs": [
    {
     "name": "stdout",
     "output_type": "stream",
     "text": [
      "  (0, 38)\t2\n",
      "  (0, 152)\t1\n",
      "  (0, 311)\t1\n",
      "  (0, 345)\t1\n",
      "  (0, 651)\t1\n",
      "  (0, 698)\t1\n",
      "  (0, 791)\t1\n",
      "  (0, 809)\t1\n",
      "  (0, 934)\t1\n",
      "  (0, 945)\t1\n",
      "  (0, 970)\t1\n",
      "  (0, 977)\t1\n",
      "  (0, 982)\t2\n",
      "  (0, 1136)\t4\n",
      "  (0, 1195)\t1\n",
      "  (0, 1548)\t1\n",
      "  (0, 1742)\t1\n",
      "  (0, 1785)\t1\n",
      "  (0, 1827)\t1\n",
      "  (0, 1873)\t1\n",
      "  (0, 1875)\t1\n",
      "  (0, 2137)\t1\n",
      "  (0, 2224)\t1\n",
      "  (0, 2302)\t1\n",
      "  (0, 2478)\t1\n",
      "  :\t:\n",
      "  (0, 8047)\t1\n",
      "  (0, 8149)\t3\n",
      "  (0, 8515)\t1\n",
      "  (0, 8518)\t1\n",
      "  (0, 8668)\t3\n",
      "  (0, 8718)\t1\n",
      "  (0, 8767)\t2\n",
      "  (0, 8878)\t4\n",
      "  (0, 8900)\t1\n",
      "  (0, 9017)\t2\n",
      "  (0, 9207)\t1\n",
      "  (0, 9265)\t1\n",
      "  (0, 9323)\t1\n",
      "  (0, 9389)\t3\n",
      "  (0, 9563)\t1\n",
      "  (0, 9576)\t2\n",
      "  (0, 9734)\t1\n",
      "  (0, 9940)\t1\n",
      "  (0, 9983)\t1\n",
      "  (0, 10035)\t1\n",
      "  (0, 10084)\t1\n",
      "  (0, 10180)\t1\n",
      "  (0, 10219)\t2\n",
      "  (0, 10251)\t1\n",
      "  (0, 10561)\t3\n"
     ]
    }
   ],
   "source": [
    "bow4 = bow_transformer.transform([review4])\n",
    "print(bow4)"
   ]
  },
  {
   "cell_type": "code",
   "execution_count": 24,
   "metadata": {},
   "outputs": [
    {
     "name": "stdout",
     "output_type": "stream",
     "text": [
      "sparse matrix shape: (201, 10625)\n",
      "number of non-zeros: 61674\n",
      "sparsity: 2.89%\n",
      "Wall time: 6.56 s\n"
     ]
    }
   ],
   "source": [
    "%%time\n",
    "reviews_bow = bow_transformer.transform(reviews['jobOrResumeDescription'])\n",
    "print('sparse matrix shape:', reviews_bow.shape)\n",
    "print('number of non-zeros:', reviews_bow.nnz)\n",
    "print('sparsity: %.2f%%' % (100.0 * reviews_bow.nnz / (reviews_bow.shape[0] * reviews_bow.shape[1])))"
   ]
  },
  {
   "cell_type": "code",
   "execution_count": 25,
   "metadata": {},
   "outputs": [
    {
     "name": "stdout",
     "output_type": "stream",
     "text": [
      "(155, 10625)\n",
      "(46, 10625)\n"
     ]
    }
   ],
   "source": [
    "# Split/splice into training ~ 80% and testing ~ 20%\n",
    "reviews_bow_train = reviews_bow[:155]\n",
    "reviews_bow_test = reviews_bow[155:]\n",
    "reviews_sentiment_train = reviews['role'][:155]\n",
    "reviews_sentiment_test = reviews['role'][155:]\n",
    "\n",
    "print(reviews_bow_train.shape)\n",
    "print(reviews_bow_test.shape)"
   ]
  },
  {
   "cell_type": "code",
   "execution_count": 26,
   "metadata": {},
   "outputs": [
    {
     "name": "stdout",
     "output_type": "stream",
     "text": [
      "Wall time: 31.2 ms\n"
     ]
    }
   ],
   "source": [
    "\n",
    "\n",
    "%time review_sentiment = MultinomialNB().fit(reviews_bow_train, reviews_sentiment_train)\n",
    "\n"
   ]
  },
  {
   "cell_type": "code",
   "execution_count": 87,
   "metadata": {},
   "outputs": [
    {
     "name": "stdout",
     "output_type": "stream",
     "text": [
      "predicted: Data Analyst\n",
      "expected: Developer\n"
     ]
    }
   ],
   "source": [
    "\n",
    "\n",
    "print('predicted:', review_sentiment.predict(bow4)[0])\n",
    "print('expected:', reviews.role[42])\n",
    "\n"
   ]
  },
  {
   "cell_type": "code",
   "execution_count": 88,
   "metadata": {},
   "outputs": [
    {
     "name": "stdout",
     "output_type": "stream",
     "text": [
      "['Data Analyst' 'Data Analyst' 'Data Analyst' 'Data Analyst'\n",
      " 'Data Analyst' 'Data Scientist' 'Data Scientist' 'Data Analyst'\n",
      " 'Data Scientist' 'Data Scientist' 'Data Scientist' 'Data Scientist'\n",
      " 'Data Scientist' 'Data Analyst' 'Data Scientist' 'Data Scientist'\n",
      " 'Data Scientist' 'Data Scientist' 'Data Analyst' 'Data Scientist'\n",
      " 'Data Analyst' 'Data Analyst' 'Data Analyst' 'Data Scientist'\n",
      " 'Data Scientist' 'Data Scientist' 'Data Scientist' 'Data Scientist'\n",
      " 'Data Scientist' 'Data Analyst' 'Data Scientist' 'Data Analyst'\n",
      " 'Data Analyst' 'Data Scientist' 'Data Scientist' 'Data Scientist'\n",
      " 'Data Scientist' 'Data Analyst' 'Data Analyst' 'Data Analyst'\n",
      " 'Data Scientist' 'Data Analyst' 'Data Scientist' 'Data Analyst'\n",
      " 'Data Scientist' 'Data Scientist']\n"
     ]
    }
   ],
   "source": [
    "predictions = review_sentiment.predict(reviews_bow_test)\n",
    "print(predictions)"
   ]
  },
  {
   "cell_type": "code",
   "execution_count": 89,
   "metadata": {},
   "outputs": [
    {
     "name": "stdout",
     "output_type": "stream",
     "text": [
      "accuracy 0.9347826086956522\n",
      "confusion matrix\n",
      " [[18  0  0  0]\n",
      " [ 1  0  1  0]\n",
      " [ 0  0 25  0]\n",
      " [ 0  0  1  0]]\n",
      "(row=expected, col=predicted)\n"
     ]
    }
   ],
   "source": [
    "print('accuracy', accuracy_score(reviews_sentiment_test, predictions))\n",
    "print('confusion matrix\\n', confusion_matrix(reviews_sentiment_test, predictions))\n",
    "print('(row=expected, col=predicted)')"
   ]
  },
  {
   "cell_type": "code",
   "execution_count": 90,
   "metadata": {},
   "outputs": [
    {
     "name": "stdout",
     "output_type": "stream",
     "text": [
      "                precision    recall  f1-score   support\n",
      "\n",
      "  Data Analyst       0.95      1.00      0.97        18\n",
      " Data Engineer       0.00      0.00      0.00         2\n",
      "Data Scientist       0.93      1.00      0.96        25\n",
      "     Developer       0.00      0.00      0.00         1\n",
      "\n",
      "      accuracy                           0.93        46\n",
      "     macro avg       0.47      0.50      0.48        46\n",
      "  weighted avg       0.87      0.93      0.90        46\n",
      "\n"
     ]
    },
    {
     "name": "stderr",
     "output_type": "stream",
     "text": [
      "c:\\users\\m\\anaconda2\\envs\\python36\\lib\\site-packages\\sklearn\\metrics\\classification.py:1437: UndefinedMetricWarning: Precision and F-score are ill-defined and being set to 0.0 in labels with no predicted samples.\n",
      "  'precision', 'predicted', average, warn_for)\n"
     ]
    }
   ],
   "source": [
    "print(classification_report(reviews_sentiment_test, predictions))\n",
    "#The F1 score can be interpreted as a weighted average of the precision and recall, \n",
    "#where an F1 score reaches its best value at 1 and worst score at 0."
   ]
  },
  {
   "cell_type": "code",
   "execution_count": 147,
   "metadata": {},
   "outputs": [],
   "source": [
    "\n",
    "def predict_review(new_review): \n",
    "    new_sample = bow_transformer.transform([new_review])\n",
    "    pr = np.around(review_sentiment.predict_proba(new_sample),2)\n",
    "    print(new_review,'\\n\\n', pr,'\\n\\nThe respective order:\\n 1-data analyst\\n 2-data engineer\\n 3-data scientist\\n 4-developer\\n 5-software engineer\\n\\n')\n",
    "    \n",
    "    if (pr[0][0] == max(pr[0])):\n",
    "        print('The max probability is data analyst for this review with ', pr[0][0]*100,'%')\n",
    "    elif (pr[0][1] == max(pr[0])):\n",
    "        print('The max probability is data engineer for this review with ', pr[0][1]*100,'%')\n",
    "    elif (pr[0][2] == max(pr[0])):\n",
    "        print('The max probability is data scientist for this review with ', pr[0][2]*100,'%')\n",
    "    elif (pr[0][3] == max(pr[0])):\n",
    "        print('The max probability is developer for this review with ', pr[0][3]*100,'%')\n",
    "    else:\n",
    "        print('The max probability is software engineer for this review with ', pr[0][4]*100,'%')\n",
    "    print('-----------------------------------------\\n\\n')"
   ]
  },
  {
   "cell_type": "code",
   "execution_count": 148,
   "metadata": {},
   "outputs": [
    {
     "data": {
      "text/plain": [
       "array(['Data Scientist', 'Developer', 'Data Analyst', 'Data Engineer',\n",
       "       'Software Engineer'], dtype=object)"
      ]
     },
     "execution_count": 148,
     "metadata": {},
     "output_type": "execute_result"
    }
   ],
   "source": [
    "reviews.role.unique()\n",
    "#These will be alphabatized in the probabilities returned for the 5 categories.\n",
    "#1-data analyst, 2-data engineer, 3-data scientist, 4-developer, 5-software engineer"
   ]
  },
  {
   "cell_type": "code",
   "execution_count": 149,
   "metadata": {},
   "outputs": [
    {
     "name": "stdout",
     "output_type": "stream",
     "text": [
      "R. programming. years. RDD. Python. Spark. \n",
      "\n",
      " [[0. 0. 1. 0. 0.]] \n",
      "\n",
      "The respective order:\n",
      " 1-data analyst\n",
      " 2-data engineer\n",
      " 3-data scientist\n",
      " 4-developer\n",
      " 5-software engineer\n",
      "\n",
      "\n",
      "The max probability is data scientist for this review with  100.0 %\n",
      "-----------------------------------------\n",
      "\n",
      "\n",
      "AWS. Azure. php. excel \n",
      "\n",
      " [[0. 0. 1. 0. 0.]] \n",
      "\n",
      "The respective order:\n",
      " 1-data analyst\n",
      " 2-data engineer\n",
      " 3-data scientist\n",
      " 4-developer\n",
      " 5-software engineer\n",
      "\n",
      "\n",
      "The max probability is data scientist for this review with  100.0 %\n",
      "-----------------------------------------\n",
      "\n",
      "\n",
      "access. microsoft. MS. office. sharepoint \n",
      "\n",
      " [[0.01 0.   0.99 0.   0.  ]] \n",
      "\n",
      "The respective order:\n",
      " 1-data analyst\n",
      " 2-data engineer\n",
      " 3-data scientist\n",
      " 4-developer\n",
      " 5-software engineer\n",
      "\n",
      "\n",
      "The max probability is data scientist for this review with  99.0 %\n",
      "-----------------------------------------\n",
      "\n",
      "\n",
      "analyst. tutoring. teaching. Assistant. \n",
      "\n",
      " [[0.02 0.01 0.96 0.   0.  ]] \n",
      "\n",
      "The respective order:\n",
      " 1-data analyst\n",
      " 2-data engineer\n",
      " 3-data scientist\n",
      " 4-developer\n",
      " 5-software engineer\n",
      "\n",
      "\n",
      "The max probability is data scientist for this review with  96.0 %\n",
      "-----------------------------------------\n",
      "\n",
      "\n"
     ]
    }
   ],
   "source": [
    "predict_review('R. programming. years. RDD. Python. Spark.')\n",
    "\n",
    "predict_review('AWS. Azure. php. excel')\n",
    "\n",
    "predict_review('access. microsoft. MS. office. sharepoint')\n",
    "predict_review('analyst. tutoring. teaching. Assistant.')"
   ]
  },
  {
   "cell_type": "markdown",
   "metadata": {},
   "source": [
    "Most of the above are Data Scientists, but there are some percentage probabilties of being a job posting or resume for data analyst and data engineer."
   ]
  },
  {
   "cell_type": "code",
   "execution_count": 150,
   "metadata": {},
   "outputs": [
    {
     "name": "stdout",
     "output_type": "stream",
     "text": [
      "Are you a Data Scientist with NLP, AI, ML and text extraction expertise,  \n",
      "\n",
      " [[0. 0. 1. 0. 0.]] \n",
      "\n",
      "The respective order:\n",
      " 1-data analyst\n",
      " 2-data engineer\n",
      " 3-data scientist\n",
      " 4-developer\n",
      " 5-software engineer\n",
      "\n",
      "\n",
      "The max probability is data scientist for this review with  100.0 %\n",
      "-----------------------------------------\n",
      "\n",
      "\n"
     ]
    }
   ],
   "source": [
    "predict_review('Are you a Data Scientist with NLP, AI, ML and text extraction expertise, ')\n"
   ]
  },
  {
   "cell_type": "code",
   "execution_count": 151,
   "metadata": {},
   "outputs": [
    {
     "name": "stdout",
     "output_type": "stream",
     "text": [
      "Master’s degree from an accredited college/university in Computer Science, Engineering, or related fields. PhD from an accredited college/university is preferred \n",
      "\n",
      " [[0.93 0.01 0.07 0.   0.  ]] \n",
      "\n",
      "The respective order:\n",
      " 1-data analyst\n",
      " 2-data engineer\n",
      " 3-data scientist\n",
      " 4-developer\n",
      " 5-software engineer\n",
      "\n",
      "\n",
      "The max probability is data analyst for this review with  93.0 %\n",
      "-----------------------------------------\n",
      "\n",
      "\n"
     ]
    }
   ],
   "source": [
    "predict_review(\"Master’s degree from an accredited college/university in Computer Science, Engineering, or related fields. PhD from an accredited college/university is preferred\")"
   ]
  },
  {
   "cell_type": "code",
   "execution_count": 152,
   "metadata": {},
   "outputs": [
    {
     "name": "stdout",
     "output_type": "stream",
     "text": [
      "We need someone with Deep Computer Vision knowledge thats worked with Cameras and Calibrating Colors, but also has some Object Detection Machine Learning experience \n",
      "\n",
      " [[0. 0. 1. 0. 0.]] \n",
      "\n",
      "The respective order:\n",
      " 1-data analyst\n",
      " 2-data engineer\n",
      " 3-data scientist\n",
      " 4-developer\n",
      " 5-software engineer\n",
      "\n",
      "\n",
      "The max probability is data scientist for this review with  100.0 %\n",
      "-----------------------------------------\n",
      "\n",
      "\n"
     ]
    }
   ],
   "source": [
    "predict_review('We need someone with Deep Computer Vision knowledge thats worked with Cameras and Calibrating Colors, but also has some Object Detection Machine Learning experience')"
   ]
  },
  {
   "cell_type": "code",
   "execution_count": 153,
   "metadata": {},
   "outputs": [
    {
     "name": "stdout",
     "output_type": "stream",
     "text": [
      " 5+ years of experience and knowledge of Web Application Development:\n",
      "\n",
      "    Java, J2EE software development, Spring Framework (Java i18n is a huge plus)\n",
      "\n",
      "- Web services - SOAP, SOA, XSL, XML\n",
      "\n",
      "    Strong knowledge of Machine Learning, Algorithm Development, and/or Natural Language Processing\n",
      "    Tomcat, JBoss, MongoDB, SQL\n",
      "    Knowledge or experience with Agile or Scrum\n",
      "\n",
      "If you think you'd be a great fit, please get in touch with me and apply today! \n",
      "\n",
      " [[0. 0. 1. 0. 0.]] \n",
      "\n",
      "The respective order:\n",
      " 1-data analyst\n",
      " 2-data engineer\n",
      " 3-data scientist\n",
      " 4-developer\n",
      " 5-software engineer\n",
      "\n",
      "\n",
      "The max probability is data scientist for this review with  100.0 %\n",
      "-----------------------------------------\n",
      "\n",
      "\n"
     ]
    }
   ],
   "source": [
    "predict_review(''' 5+ years of experience and knowledge of Web Application Development:\n",
    "\n",
    "    Java, J2EE software development, Spring Framework (Java i18n is a huge plus)\n",
    "\n",
    "- Web services - SOAP, SOA, XSL, XML\n",
    "\n",
    "    Strong knowledge of Machine Learning, Algorithm Development, and/or Natural Language Processing\n",
    "    Tomcat, JBoss, MongoDB, SQL\n",
    "    Knowledge or experience with Agile or Scrum\n",
    "\n",
    "If you think you'd be a great fit, please get in touch with me and apply today!''')"
   ]
  },
  {
   "cell_type": "code",
   "execution_count": null,
   "metadata": {},
   "outputs": [],
   "source": []
  }
 ],
 "metadata": {
  "kernelspec": {
   "display_name": "Python 3",
   "language": "python",
   "name": "python3"
  },
  "language_info": {
   "codemirror_mode": {
    "name": "ipython",
    "version": 3
   },
   "file_extension": ".py",
   "mimetype": "text/x-python",
   "name": "python",
   "nbconvert_exporter": "python",
   "pygments_lexer": "ipython3",
   "version": "3.6.9"
  }
 },
 "nbformat": 4,
 "nbformat_minor": 2
}
